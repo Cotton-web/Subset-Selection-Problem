{
  "nbformat": 4,
  "nbformat_minor": 0,
  "metadata": {
    "colab": {
      "provenance": [],
      "authorship_tag": "ABX9TyNLDn/lg7fUNkYzs2iHGa0l",
      "include_colab_link": true
    },
    "kernelspec": {
      "name": "python3",
      "display_name": "Python 3"
    },
    "language_info": {
      "name": "python"
    }
  },
  "cells": [
    {
      "cell_type": "markdown",
      "metadata": {
        "id": "view-in-github",
        "colab_type": "text"
      },
      "source": [
        "<a href=\"https://colab.research.google.com/github/Cotton-web/Subset-Selection-Problem/blob/main/Subset_Selection_Problem.ipynb\" target=\"_parent\"><img src=\"https://colab.research.google.com/assets/colab-badge.svg\" alt=\"Open In Colab\"/></a>"
      ]
    },
    {
      "cell_type": "markdown",
      "source": [
        "#Subset Selection Problem"
      ],
      "metadata": {
        "id": "i7urJXvm6C-8"
      }
    },
    {
      "cell_type": "markdown",
      "source": [
        "1. Find all the subsets from a set of numbers whose sum is zero.\n",
        "\n",
        "   **Constraint: Subset size must be 5**\n",
        "\n",
        "   Set= {-12, -3, -6, 7, 2, -2, 6, 3, 9, -7, -5, -8, 1, 11, -9, -4}"
      ],
      "metadata": {
        "id": "7gR-eUW-1XBs"
      }
    },
    {
      "cell_type": "code",
      "execution_count": 14,
      "metadata": {
        "id": "Ijpfn_DPmkTd",
        "colab": {
          "base_uri": "https://localhost:8080/"
        },
        "outputId": "431578ce-c1c6-424b-cef1-7164264da52b"
      },
      "outputs": [
        {
          "output_type": "stream",
          "name": "stdout",
          "text": [
            "(-12, -6, -2, 9, 11)\n",
            "(-12, -4, 1, 6, 9)\n",
            "(-9, -3, 2, 3, 7)\n",
            "(-8, -6, -4, 7, 11)\n",
            "(-8, -5, -4, 6, 11)\n",
            "(-7, -4, 2, 3, 6)\n",
            "(-9, -5, 1, 2, 11)\n",
            "(-9, -5, 2, 3, 9)\n",
            "(-9, -4, -3, 7, 9)\n",
            "(-12, -3, 1, 3, 11)\n",
            "(-7, -3, -2, 3, 9)\n",
            "(-8, -3, 1, 3, 7)\n",
            "(-12, -7, 2, 6, 11)\n",
            "(-7, -5, 2, 3, 7)\n",
            "(-6, -3, 1, 2, 6)\n",
            "(-6, -4, -2, 3, 9)\n",
            "(-4, -3, -2, 2, 7)\n",
            "(-8, -2, 1, 2, 7)\n",
            "(-8, -5, 1, 3, 9)\n",
            "(-12, -5, 2, 6, 9)\n",
            "(-8, -7, -5, 9, 11)\n",
            "(-12, -5, -3, 9, 11)\n",
            "(-12, -4, 3, 6, 7)\n",
            "(-8, -7, -2, 6, 11)\n",
            "(-9, -6, 2, 6, 7)\n",
            "(-9, -4, 1, 3, 9)\n",
            "(-7, -6, -5, 7, 11)\n",
            "(-7, -5, -3, 6, 9)\n",
            "(-8, -6, 2, 3, 9)\n",
            "\n",
            "Total Sets:  29 \n",
            "\n"
          ]
        }
      ],
      "source": [
        "import random as r\n",
        "\n",
        "Set1 = set([-12, -3, -6, 7, 2, -2, 6, 3, 9, -7, -5, -8, 1, 11, -9, -4])\n",
        "SetSize = 5\n",
        "Result = set()\n",
        "Iterate = 1000\n",
        "\n",
        "for i in range(Iterate):\n",
        "    Subset = r.sample(list(Set1), k= SetSize)\n",
        "    Subset.sort()\n",
        "    if sum(Subset) == 0:\n",
        "        Result.add(tuple(Subset))\n",
        "\n",
        "for r in Result:\n",
        "\tprint (r)\n",
        "\n",
        "print (\"\\nTotal Sets: \", len(Result), \"\\n\")"
      ]
    },
    {
      "cell_type": "markdown",
      "source": [
        "2. Find all the subsets from a set of numbers whose sum is zero.\n",
        "\n",
        "   **Constraint: Subset size must be 3 to 6 only.**\n",
        "\n",
        "   Set= {-12, -3, -6, 7, 2, -2, 6, 3, 9, -7, -5, -8, 1, 11, -9, -4}"
      ],
      "metadata": {
        "id": "jN_-OLc85DW8"
      }
    },
    {
      "cell_type": "code",
      "source": [
        "import random as r\n",
        "\n",
        "Set1 = set([-12, -3, -6, 7, 2, -2, 6, 3, 9, -7, -5, -8, 1, 11, -9, -4])\n",
        "SetLB = 3\n",
        "SetUB = 6\n",
        "ResultList = set()\n",
        "Iterate = 1000\n",
        "\n",
        "for i in range(Iterate):\n",
        "    SetSize = r.randint(SetLB,SetUB)\n",
        "    Subset = r.sample(list(Set1),SetSize)\n",
        "    Subset.sort()\n",
        "    if sum(Subset) == 0:\n",
        "        ResultList.add(tuple(Subset))\n",
        "\n",
        "for r in ResultList:\n",
        "\tprint (r)\n",
        "\n",
        "print (\"\\nTotal Sets: \", len(ResultList))"
      ],
      "metadata": {
        "colab": {
          "base_uri": "https://localhost:8080/"
        },
        "id": "p6tCN9FD5Jxi",
        "outputId": "45d612fd-c8b0-42f1-a61c-9ea81d1887f5"
      },
      "execution_count": 16,
      "outputs": [
        {
          "output_type": "stream",
          "name": "stdout",
          "text": [
            "(-12, -6, 3, 6, 9)\n",
            "(-8, -4, -3, -2, 6, 11)\n",
            "(-12, -3, 2, 6, 7)\n",
            "(-12, -5, -2, 2, 6, 11)\n",
            "(-8, -4, 1, 11)\n",
            "(-9, -3, 3, 9)\n",
            "(-12, 3, 9)\n",
            "(-12, -2, 3, 11)\n",
            "(-7, -6, -3, 3, 6, 7)\n",
            "(-5, -3, 1, 7)\n",
            "(-9, -5, -4, 1, 6, 11)\n",
            "(-7, -6, 6, 7)\n",
            "(-12, -6, -3, 3, 7, 11)\n",
            "(-8, -7, 1, 3, 11)\n",
            "(-9, -4, 2, 11)\n",
            "(-8, 1, 7)\n",
            "(-7, -4, 11)\n",
            "(-9, -6, -3, 2, 7, 9)\n",
            "(-9, -7, 7, 9)\n",
            "(-6, -4, -2, 3, 9)\n",
            "(-6, -4, -2, 2, 3, 7)\n",
            "(-5, -2, 7)\n",
            "(-7, -6, -3, 7, 9)\n",
            "(-4, -3, 7)\n",
            "(-7, -2, 2, 7)\n",
            "(-3, 1, 2)\n",
            "\n",
            "Total Sets:  26\n"
          ]
        }
      ]
    }
  ]
}